{
 "cells": [
  {
   "cell_type": "code",
   "execution_count": 40,
   "id": "c01eb78c-acd9-48a4-a20e-a8b5ac6af9d1",
   "metadata": {},
   "outputs": [],
   "source": [
    "import pandas as pd\n",
    "import numpy as np\n",
    "import textwrap\n",
    "import nltk\n",
    "from nltk.corpus import stopwords\n",
    "from nltk import word_tokenize\n",
    "from nltk.stem import WordNetLemmatizer, PorterStemmer\n",
    "from sklearn.feature_extraction.text import TfidfVectorizer"
   ]
  },
  {
   "cell_type": "code",
   "execution_count": 42,
   "id": "1bbac08e-68cd-4611-b3ec-81106646652e",
   "metadata": {},
   "outputs": [
    {
     "name": "stderr",
     "output_type": "stream",
     "text": [
      "[nltk_data] Downloading package punkt to\n",
      "[nltk_data]     C:\\Users\\SAUMITRA\\AppData\\Roaming\\nltk_data...\n",
      "[nltk_data]   Package punkt is already up-to-date!\n",
      "[nltk_data] Downloading package stopwords to\n",
      "[nltk_data]     C:\\Users\\SAUMITRA\\AppData\\Roaming\\nltk_data...\n",
      "[nltk_data]   Package stopwords is already up-to-date!\n"
     ]
    },
    {
     "data": {
      "text/plain": [
       "True"
      ]
     },
     "execution_count": 42,
     "metadata": {},
     "output_type": "execute_result"
    }
   ],
   "source": [
    "nltk.download('punkt')\n",
    "nltk.download('stopwords')"
   ]
  },
  {
   "cell_type": "code",
   "execution_count": 44,
   "id": "b3276118-2a08-4c7f-9af3-62103b3fc7bb",
   "metadata": {},
   "outputs": [],
   "source": [
    "df = pd.read_csv('bbc_text_cls.csv')"
   ]
  },
  {
   "cell_type": "code",
   "execution_count": 46,
   "id": "4c9b9fe3-643c-4cb5-8f8c-db06561a78d5",
   "metadata": {},
   "outputs": [
    {
     "data": {
      "text/html": [
       "<div>\n",
       "<style scoped>\n",
       "    .dataframe tbody tr th:only-of-type {\n",
       "        vertical-align: middle;\n",
       "    }\n",
       "\n",
       "    .dataframe tbody tr th {\n",
       "        vertical-align: top;\n",
       "    }\n",
       "\n",
       "    .dataframe thead th {\n",
       "        text-align: right;\n",
       "    }\n",
       "</style>\n",
       "<table border=\"1\" class=\"dataframe\">\n",
       "  <thead>\n",
       "    <tr style=\"text-align: right;\">\n",
       "      <th></th>\n",
       "      <th>text</th>\n",
       "      <th>labels</th>\n",
       "    </tr>\n",
       "  </thead>\n",
       "  <tbody>\n",
       "    <tr>\n",
       "      <th>0</th>\n",
       "      <td>Ad sales boost Time Warner profit\\n\\nQuarterly...</td>\n",
       "      <td>business</td>\n",
       "    </tr>\n",
       "    <tr>\n",
       "      <th>1</th>\n",
       "      <td>Dollar gains on Greenspan speech\\n\\nThe dollar...</td>\n",
       "      <td>business</td>\n",
       "    </tr>\n",
       "    <tr>\n",
       "      <th>2</th>\n",
       "      <td>Yukos unit buyer faces loan claim\\n\\nThe owner...</td>\n",
       "      <td>business</td>\n",
       "    </tr>\n",
       "    <tr>\n",
       "      <th>3</th>\n",
       "      <td>High fuel prices hit BA's profits\\n\\nBritish A...</td>\n",
       "      <td>business</td>\n",
       "    </tr>\n",
       "    <tr>\n",
       "      <th>4</th>\n",
       "      <td>Pernod takeover talk lifts Domecq\\n\\nShares in...</td>\n",
       "      <td>business</td>\n",
       "    </tr>\n",
       "  </tbody>\n",
       "</table>\n",
       "</div>"
      ],
      "text/plain": [
       "                                                text    labels\n",
       "0  Ad sales boost Time Warner profit\\n\\nQuarterly...  business\n",
       "1  Dollar gains on Greenspan speech\\n\\nThe dollar...  business\n",
       "2  Yukos unit buyer faces loan claim\\n\\nThe owner...  business\n",
       "3  High fuel prices hit BA's profits\\n\\nBritish A...  business\n",
       "4  Pernod takeover talk lifts Domecq\\n\\nShares in...  business"
      ]
     },
     "execution_count": 46,
     "metadata": {},
     "output_type": "execute_result"
    }
   ],
   "source": [
    "df.head()"
   ]
  },
  {
   "cell_type": "code",
   "execution_count": 48,
   "id": "4f0fd2ee-e6e4-43c5-8e5b-7ea80e8dcfbd",
   "metadata": {},
   "outputs": [],
   "source": [
    "doc = df[df.labels == 'business']['text'].sample(random_state=42) #to choose a random business document"
   ]
  },
  {
   "cell_type": "code",
   "execution_count": 50,
   "id": "2935205e-cce8-472d-8953-df5b01dc5dec",
   "metadata": {},
   "outputs": [],
   "source": [
    "def wrap(x): #prints the results more nicely\n",
    "  return textwrap.fill(x, replace_whitespace=False, fix_sentence_endings=True)"
   ]
  },
  {
   "cell_type": "code",
   "execution_count": 56,
   "id": "1cc33cf4-0cd2-4e5d-a0c8-3628141d5ac8",
   "metadata": {},
   "outputs": [
    {
     "name": "stdout",
     "output_type": "stream",
     "text": [
      "Christmas sales worst since 1981\n",
      "\n",
      "UK retail sales fell in December,\n",
      "failing to meet expectations and making it by some counts the worst\n",
      "Christmas since 1981.\n",
      "\n",
      "Retail sales dropped by 1% on the month in\n",
      "December, after a 0.6% rise in November, the Office for National\n",
      "Statistics (ONS) said.  The ONS revised the annual 2004 rate of growth\n",
      "down from the 5.9% estimated in November to 3.2%. A number of\n",
      "retailers have already reported poor figures for December.  Clothing\n",
      "retailers and non-specialist stores were the worst hit with only\n",
      "internet retailers showing any significant growth, according to the\n",
      "ONS.\n",
      "\n",
      "The last time retailers endured a tougher Christmas was 23 years\n",
      "previously, when sales plunged 1.7%.\n",
      "\n",
      "The ONS echoed an earlier\n",
      "caution from Bank of England governor Mervyn King not to read too much\n",
      "into the poor December figures.  Some analysts put a positive gloss on\n",
      "the figures, pointing out that the non-seasonally-adjusted figures\n",
      "showed a performance comparable with 2003. The November-December jump\n",
      "last year was roughly comparable with recent averages, although some\n",
      "way below the serious booms seen in the 1990s.  And figures for retail\n",
      "volume outperformed measures of actual spending, an indication that\n",
      "consumers are looking for bargains, and retailers are cutting their\n",
      "prices.\n",
      "\n",
      "However, reports from some High Street retailers highlight\n",
      "the weakness of the sector.  Morrisons, Woolworths, House of Fraser,\n",
      "Marks & Spencer and Big Food all said that the festive period was\n",
      "disappointing.\n",
      "\n",
      "And a British Retail Consortium survey found that\n",
      "Christmas 2004 was the worst for 10 years.  Yet, other retailers -\n",
      "including HMV, Monsoon, Jessops, Body Shop and Tesco - reported that\n",
      "festive sales were well up on last year.  Investec chief economist\n",
      "Philip Shaw said he did not expect the poor retail figures to have any\n",
      "immediate effect on interest rates.  \"The retail sales figures are\n",
      "very weak, but as Bank of England governor Mervyn King indicated last\n",
      "night, you don't really get an accurate impression of Christmas\n",
      "trading until about Easter,\" said Mr Shaw.  \"Our view is the Bank of\n",
      "England will keep its powder dry and wait to see the big picture.\"\n"
     ]
    }
   ],
   "source": [
    "print(wrap(doc.iloc[0]))"
   ]
  },
  {
   "cell_type": "code",
   "execution_count": 58,
   "id": "c6ed7966-f966-4977-b7bd-66aa2825eeac",
   "metadata": {},
   "outputs": [],
   "source": [
    "sents = nltk.sent_tokenize(doc.iloc[0].split(\"\\n\", 1)[1]) # removes the heading of the document"
   ]
  },
  {
   "cell_type": "code",
   "execution_count": 60,
   "id": "49b7eb4a-fa27-45b5-90a3-b09781f22641",
   "metadata": {},
   "outputs": [],
   "source": [
    "featurizer = TfidfVectorizer(\n",
    "    stop_words=stopwords.words('english'),\n",
    "    norm='l1',\n",
    ")"
   ]
  },
  {
   "cell_type": "code",
   "execution_count": 62,
   "id": "2f0a7f85-f1c1-4417-b843-1d6149296954",
   "metadata": {},
   "outputs": [],
   "source": [
    "X = featurizer.fit_transform(sents)"
   ]
  },
  {
   "cell_type": "code",
   "execution_count": 64,
   "id": "abba1c74-a82f-4eea-b024-00bb54ca9ecd",
   "metadata": {},
   "outputs": [],
   "source": [
    "def get_sentence_score(tfidf_row):\n",
    "  # return the average of the non-zero values\n",
    "  # of the tf-idf vector representation of a sentence\n",
    "  x = tfidf_row[tfidf_row != 0]\n",
    "  return x.mean()"
   ]
  },
  {
   "cell_type": "code",
   "execution_count": 66,
   "id": "574b29a4-0203-41e0-9c5c-6bef87f45dfc",
   "metadata": {},
   "outputs": [],
   "source": [
    "scores = np.zeros(len(sents))\n",
    "for i in range(len(sents)):\n",
    "  score = get_sentence_score(X[i,:])\n",
    "  scores[i] = score"
   ]
  },
  {
   "cell_type": "code",
   "execution_count": 68,
   "id": "a8814cc0-9d26-467b-b82a-52fccef2479f",
   "metadata": {},
   "outputs": [],
   "source": [
    "sort_idx = np.argsort(-scores)"
   ]
  },
  {
   "cell_type": "code",
   "execution_count": 70,
   "id": "8ae04ecb-8b5b-431a-b9ae-f11ef7ad7fb8",
   "metadata": {},
   "outputs": [
    {
     "name": "stdout",
     "output_type": "stream",
     "text": [
      "Generated summary:\n",
      "0.14: A number of retailers have already reported poor figures for\n",
      "December.\n",
      "0.13: However, reports from some High Street retailers highlight the\n",
      "weakness of the sector.\n",
      "0.12: The ONS revised the annual 2004 rate of growth down from the\n",
      "5.9% estimated in November to 3.2%.\n",
      "0.10: \"Our view is the Bank of England will keep its powder dry and\n",
      "wait to see the big picture.\"\n",
      "0.10: And a British Retail Consortium survey found that Christmas 2004\n",
      "was the worst for 10 years.\n"
     ]
    }
   ],
   "source": [
    "# Many options for how to choose which sentences to include:\n",
    "\n",
    "# 1) top N sentences\n",
    "# 2) top N words or characters.\n",
    "# 3) top X% sentences or top X% words\n",
    "# 4) sentences with scores > average score\n",
    "# 5) sentences with scores > factor * average score\n",
    "\n",
    "# You also don't have to sort. May make more sense in order.\n",
    "\n",
    "print(\"Generated summary:\")\n",
    "for i in sort_idx[:5]:\n",
    "  print(wrap(\"%.2f: %s\" % (scores[i], sents[i])))"
   ]
  },
  {
   "cell_type": "code",
   "execution_count": 72,
   "id": "ac820346-75f5-4df9-ba51-e793632231d7",
   "metadata": {},
   "outputs": [
    {
     "data": {
      "text/plain": [
       "'Christmas sales worst since 1981'"
      ]
     },
     "execution_count": 72,
     "metadata": {},
     "output_type": "execute_result"
    }
   ],
   "source": [
    "doc.iloc[0].split(\"\\n\", 1)[0] #Title of the document"
   ]
  },
  {
   "cell_type": "code",
   "execution_count": 74,
   "id": "c6897006-1b15-465a-b5a2-07c5fd665fff",
   "metadata": {},
   "outputs": [],
   "source": [
    "def summarize(text):\n",
    "  # extract sentences\n",
    "  sents = nltk.sent_tokenize(text)\n",
    "\n",
    "  # perform tf-idf\n",
    "  X = featurizer.fit_transform(sents)\n",
    "\n",
    "  # compute scores for each sentence\n",
    "  scores = np.zeros(len(sents))\n",
    "  for i in range(len(sents)):\n",
    "    score = get_sentence_score(X[i,:])\n",
    "    scores[i] = score\n",
    "  \n",
    "  # sort the scores\n",
    "  sort_idx = np.argsort(-scores)\n",
    "\n",
    "  # print summary\n",
    "  for i in sort_idx[:5]:\n",
    "    print(wrap(\"%.2f: %s\" % (scores[i], sents[i])))"
   ]
  },
  {
   "cell_type": "code",
   "execution_count": 76,
   "id": "4a7ff394-a3c2-4c93-9008-4494e11e1fb7",
   "metadata": {},
   "outputs": [
    {
     "name": "stdout",
     "output_type": "stream",
     "text": [
      "0.11: The Black Eyed Peas won awards for best R 'n' B video and\n",
      "sexiest video, both for Hey Mama.\n",
      "0.10: The ceremony was held at the Luna Park fairground in Sydney\n",
      "Harbour and was hosted by the Osbourne family.\n",
      "0.10: Goodrem, Green Day and the Black Eyed Peas took home two awards\n",
      "each.\n",
      "0.10: Other winners included Green Day, voted best group, and the\n",
      "Black Eyed Peas.\n",
      "0.10: The VH1 First Music Award went to Cher honouring her\n",
      "achievements within the music industry.\n"
     ]
    }
   ],
   "source": [
    "doc = df[df.labels == 'entertainment']['text'].sample(random_state=123)\n",
    "summarize(doc.iloc[0].split(\"\\n\", 1)[1])"
   ]
  },
  {
   "cell_type": "code",
   "execution_count": 78,
   "id": "ce5c2ad7-c1fd-498d-9e53-5ec8894ddfeb",
   "metadata": {},
   "outputs": [
    {
     "data": {
      "text/plain": [
       "'Goodrem wins top female MTV prize'"
      ]
     },
     "execution_count": 78,
     "metadata": {},
     "output_type": "execute_result"
    }
   ],
   "source": [
    "doc.iloc[0].split(\"\\n\", 1)[0]"
   ]
  },
  {
   "cell_type": "code",
   "execution_count": 80,
   "id": "867644ff-5523-4775-be20-2693031f0044",
   "metadata": {},
   "outputs": [
    {
     "name": "stdout",
     "output_type": "stream",
     "text": [
      "Goodrem wins top female MTV prize\n",
      "\n",
      "Pop singer Delta Goodrem has\n",
      "scooped one of the top individual prizes at the first Australian MTV\n",
      "Music Awards.\n",
      "\n",
      "The 21-year-old singer won the award for best female\n",
      "artist, with Australian Idol runner-up Shannon Noll taking the title\n",
      "of best male at the ceremony.  Goodrem, known in both Britain and\n",
      "Australia for her role as Nina Tucker in TV soap Neighbours, also\n",
      "performed a duet with boyfriend Brian McFadden.  Other winners\n",
      "included Green Day, voted best group, and the Black Eyed Peas.\n",
      "Goodrem, Green Day and the Black Eyed Peas took home two awards each.\n",
      "As well as best female, Goodrem also took home the Pepsi Viewers\n",
      "Choice Award, whilst Green Day bagged the prize for best rock video\n",
      "for American Idiot.  The Black Eyed Peas won awards for best R 'n' B\n",
      "video and sexiest video, both for Hey Mama.  Local singer and\n",
      "songwriter Missy Higgins took the title of breakthrough artist of the\n",
      "year, with Australian Idol winner Guy Sebastian taking the honours for\n",
      "best pop video.  The VH1 First Music Award went to Cher honouring her\n",
      "achievements within the music industry.  The ceremony was held at the\n",
      "Luna Park fairground in Sydney Harbour and was hosted by the Osbourne\n",
      "family.  Artists including Carmen Electra, Missy Higgins, Kelly\n",
      "Osbourne, Green Day, Ja Rule and Natalie Imbruglia gave live\n",
      "performances at the event.\n"
     ]
    }
   ],
   "source": [
    "print(wrap(doc.iloc[0]))"
   ]
  },
  {
   "cell_type": "code",
   "execution_count": null,
   "id": "4a4c804d-a9f0-43ea-aa30-2df6a0790ea8",
   "metadata": {},
   "outputs": [],
   "source": []
  }
 ],
 "metadata": {
  "kernelspec": {
   "display_name": "Python 3 (ipykernel)",
   "language": "python",
   "name": "python3"
  },
  "language_info": {
   "codemirror_mode": {
    "name": "ipython",
    "version": 3
   },
   "file_extension": ".py",
   "mimetype": "text/x-python",
   "name": "python",
   "nbconvert_exporter": "python",
   "pygments_lexer": "ipython3",
   "version": "3.11.7"
  }
 },
 "nbformat": 4,
 "nbformat_minor": 5
}
